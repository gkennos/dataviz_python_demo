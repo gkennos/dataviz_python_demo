{
 "cells": [
  {
   "cell_type": "code",
   "execution_count": null,
   "id": "ba4d3cba-57e5-4a14-9310-067deef3b368",
   "metadata": {},
   "outputs": [],
   "source": [
    "import sqlite3 as sql\n",
    "import os\n",
    "from os.path import dirname, join\n",
    "import urllib\n",
    "\n",
    "import numpy as np\n",
    "import pandas.io.sql as psql\n",
    "\n",
    "from bokeh.io import show, output_notebook\n",
    "from bokeh.layouts import column, row\n",
    "from bokeh.models import ColumnDataSource, Div, Select, Slider, TextInput\n",
    "from bokeh.plotting import figure\n",
    "\n",
    "import bokeh"
   ]
  },
  {
   "cell_type": "code",
   "execution_count": null,
   "id": "42283ae8-356e-4f1a-a8fd-de41cff8b7c0",
   "metadata": {},
   "outputs": [],
   "source": [
    "# run this the first time only\n",
    "# bokeh.sampledata.download()"
   ]
  },
  {
   "cell_type": "code",
   "execution_count": null,
   "id": "c091086e-df26-4669-94d7-d0444bb9d52e",
   "metadata": {},
   "outputs": [],
   "source": [
    "output_notebook()"
   ]
  },
  {
   "cell_type": "code",
   "execution_count": null,
   "id": "ba30a073-6612-4157-8ce7-dfee8210dbb7",
   "metadata": {},
   "outputs": [],
   "source": [
    "from bokeh.sampledata.movies_data import movie_path\n",
    "\n",
    "conn = sql.connect(movie_path)\n",
    "query = open('query.sql').read()\n",
    "movies = psql.read_sql(query, conn)"
   ]
  },
  {
   "cell_type": "code",
   "execution_count": null,
   "id": "1e703825-0719-4296-9e74-31229ec8de7b",
   "metadata": {},
   "outputs": [],
   "source": [
    "movies[\"color\"] = np.where(movies[\"Oscars\"] > 0, \"orange\", \"grey\")\n",
    "movies[\"alpha\"] = np.where(movies[\"Oscars\"] > 0, 0.9, 0.25)\n",
    "movies.fillna(0, inplace=True)  # just replace missing values with zero\n",
    "movies[\"revenue\"] = movies.BoxOffice.apply(lambda x: '{:,d}'.format(int(x)))"
   ]
  },
  {
   "cell_type": "code",
   "execution_count": null,
   "id": "361aa337-2efd-48bc-bf77-aabac2259c42",
   "metadata": {},
   "outputs": [],
   "source": [
    "movies.head()"
   ]
  },
  {
   "cell_type": "code",
   "execution_count": null,
   "id": "34d85809-2b96-40aa-850b-8212ebf58be9",
   "metadata": {},
   "outputs": [],
   "source": [
    "with open(\"razzies-clean.csv\") as f:\n",
    "    razzies = f.read().splitlines()\n",
    "movies.loc[movies.imdbID.isin(razzies), \"color\"] = \"purple\"\n",
    "movies.loc[movies.imdbID.isin(razzies), \"alpha\"] = 0.9"
   ]
  },
  {
   "cell_type": "code",
   "execution_count": null,
   "id": "e74ce91f-2d37-42fc-9dae-2cb710c9c427",
   "metadata": {},
   "outputs": [],
   "source": [
    "axis_map = {\n",
    "    \"Tomato Meter\": \"Meter\",\n",
    "    \"Numeric Rating\": \"numericRating\",\n",
    "    \"Number of Reviews\": \"Reviews\",\n",
    "    \"Box Office (dollars)\": \"BoxOffice\",\n",
    "    \"Length (minutes)\": \"Runtime\",\n",
    "    \"Year\": \"Year\",\n",
    "}"
   ]
  },
  {
   "cell_type": "code",
   "execution_count": null,
   "id": "a358458c-4af1-4a90-bdd3-66ea97206bf5",
   "metadata": {},
   "outputs": [],
   "source": [
    "def bkapp(doc):\n",
    "\n",
    "    desc = Div(text=open(\"description.html\").read(), sizing_mode=\"stretch_width\")\n",
    "\n",
    "    # Create Input controls\n",
    "    reviews = Slider(title=\"Minimum number of reviews\", value=80, start=10, end=300, step=10)\n",
    "    min_year = Slider(title=\"Year released\", start=1940, end=2014, value=1970, step=1)\n",
    "    max_year = Slider(title=\"End Year released\", start=1940, end=2014, value=2014, step=1)\n",
    "    oscars = Slider(title=\"Minimum number of Oscar wins\", start=0, end=4, value=0, step=1)\n",
    "    boxoffice = Slider(title=\"Dollars at Box Office (millions)\", start=0, end=800, value=0, step=1)\n",
    "    genre = Select(title=\"Genre\", value=\"All\",\n",
    "                   options=open('genres.txt').read().split())\n",
    "    director = TextInput(title=\"Director name contains\")\n",
    "    cast = TextInput(title=\"Cast names contains\")\n",
    "    x_axis = Select(title=\"X Axis\", options=sorted(axis_map.keys()), value=\"Tomato Meter\")\n",
    "    y_axis = Select(title=\"Y Axis\", options=sorted(axis_map.keys()), value=\"Number of Reviews\")\n",
    "\n",
    "    # Create Column Data Source that will be used by the plot\n",
    "    source = ColumnDataSource(data=dict(x=[], y=[], color=[], title=[], year=[], revenue=[], alpha=[]))\n",
    "\n",
    "    TOOLTIPS=[\n",
    "        (\"Title\", \"@title\"),\n",
    "        (\"Year\", \"@year\"),\n",
    "        (\"$\", \"@revenue\")\n",
    "    ]\n",
    "\n",
    "    \n",
    "    def select_movies():\n",
    "        genre_val = genre.value\n",
    "        director_val = director.value.strip()\n",
    "        cast_val = cast.value.strip()\n",
    "        selected = movies[\n",
    "            (movies.Reviews >= reviews.value) &\n",
    "            (movies.BoxOffice >= (boxoffice.value * 1e6)) &\n",
    "            (movies.Year >= min_year.value) &\n",
    "            (movies.Year <= max_year.value) &\n",
    "            (movies.Oscars >= oscars.value)\n",
    "        ]\n",
    "        if (genre_val != \"All\"):\n",
    "            selected = selected[selected.Genre.str.contains(genre_val)==True]\n",
    "        if (director_val != \"\"):\n",
    "            selected = selected[selected.Director.str.contains(director_val)==True]\n",
    "        if (cast_val != \"\"):\n",
    "            selected = selected[selected.Cast.str.contains(cast_val)==True]\n",
    "        return selected\n",
    "\n",
    "\n",
    "    def update():\n",
    "        df = select_movies()\n",
    "        x_name = axis_map[x_axis.value]\n",
    "        y_name = axis_map[y_axis.value]\n",
    "\n",
    "        p.xaxis.axis_label = x_axis.value\n",
    "        p.yaxis.axis_label = y_axis.value\n",
    "        p.title.text = \"%d movies selected\" % len(df)\n",
    "        source.data = dict(\n",
    "            x=df[x_name],\n",
    "            y=df[y_name],\n",
    "            color=df[\"color\"],\n",
    "            title=df[\"Title\"],\n",
    "            year=df[\"Year\"],\n",
    "            revenue=df[\"revenue\"],\n",
    "            alpha=df[\"alpha\"],\n",
    "        )\n",
    "    \n",
    "    \n",
    "    p = figure(height=600, width=700, title=\"\", toolbar_location=None, tooltips=TOOLTIPS, sizing_mode=\"scale_both\")\n",
    "    p.circle(x=\"x\", y=\"y\", source=source, size=7, color=\"color\", line_color=None, fill_alpha=\"alpha\")\n",
    "\n",
    "    controls = [reviews, boxoffice, genre, min_year, max_year, oscars, director, cast, x_axis, y_axis]\n",
    "    for control in controls:\n",
    "        control.on_change('value', lambda attr, old, new: update())\n",
    "\n",
    "    inputs = column(*controls, width=320)\n",
    "\n",
    "    l = column(desc, row(inputs, p), sizing_mode=\"scale_both\")\n",
    "    update()  # initial load of the data\n",
    "\n",
    "    doc.add_root(l)\n",
    "    doc.title = \"Movies\""
   ]
  },
  {
   "cell_type": "code",
   "execution_count": null,
   "id": "178492af-51e7-4940-a8e7-7843610ebe09",
   "metadata": {},
   "outputs": [],
   "source": [
    "show(bkapp, notebook_url='http://localhost:8888')"
   ]
  },
  {
   "cell_type": "code",
   "execution_count": null,
   "id": "6719df27-e25d-434d-b5f5-e36c98c7515b",
   "metadata": {},
   "outputs": [],
   "source": []
  },
  {
   "cell_type": "code",
   "execution_count": null,
   "id": "267e5c36-011c-422f-b9b9-3e86043ad17a",
   "metadata": {},
   "outputs": [],
   "source": []
  }
 ],
 "metadata": {
  "kernelspec": {
   "display_name": "dataviz_demo",
   "language": "python",
   "name": "dataviz_demo"
  },
  "language_info": {
   "codemirror_mode": {
    "name": "ipython",
    "version": 3
   },
   "file_extension": ".py",
   "mimetype": "text/x-python",
   "name": "python",
   "nbconvert_exporter": "python",
   "pygments_lexer": "ipython3",
   "version": "3.8.5"
  }
 },
 "nbformat": 4,
 "nbformat_minor": 5
}
