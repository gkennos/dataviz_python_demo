{
 "cells": [
  {
   "cell_type": "code",
   "execution_count": null,
   "id": "a31bec18-b478-4b22-8e90-7b95c0901a41",
   "metadata": {},
   "outputs": [],
   "source": [
    "import seaborn as sns\n",
    "import pandas as pd\n",
    "import matplotlib.pyplot as plt\n",
    "import numpy as np\n",
    "import ssl\n",
    "ssl._create_default_https_context = ssl._create_unverified_context"
   ]
  },
  {
   "cell_type": "markdown",
   "id": "265c7f51-fe5e-4bf1-affd-a640cf2c3773",
   "metadata": {},
   "source": [
    "# Seaborn\n",
    "\n",
    "High level interface to make matplotlib _nice_\n",
    "\n",
    "* Matplotlib: making easy things easy and hard things possible\n",
    "* Seaborn: makes a set of defined hard things easy to do as well"
   ]
  },
  {
   "cell_type": "code",
   "execution_count": null,
   "id": "ce4b6198-5b0c-4f13-87cc-02e95962822a",
   "metadata": {},
   "outputs": [],
   "source": [
    "cars = pd.read_csv('auto-mpg.data', delim_whitespace=True, header=None)\n",
    "cars.columns = ['mpg','cylinders','displacement','horsepower','weight','acceleration','model_year','origin','car_name']"
   ]
  },
  {
   "cell_type": "code",
   "execution_count": null,
   "id": "14c108cb-9fbc-4bb5-9420-7caf4e6a762a",
   "metadata": {},
   "outputs": [],
   "source": [
    "cars['hp_float'] = cars.horsepower.replace('?', np.nan).astype(float)\n",
    "cars.origin = cars.origin.replace({1: 'Europe', 2: 'USA', 3: 'Japan'})"
   ]
  },
  {
   "cell_type": "code",
   "execution_count": null,
   "id": "abcccbdb-14c4-424e-9e72-9749bb191016",
   "metadata": {},
   "outputs": [],
   "source": [
    "cars[cars.hp_float.isna()]"
   ]
  },
  {
   "cell_type": "code",
   "execution_count": null,
   "id": "502e1dba-a02e-4ef0-a8d5-c7f7f325034d",
   "metadata": {},
   "outputs": [],
   "source": [
    "sns.lmplot(x='hp_float', y='mpg', data=cars, hue='origin', fit_reg=False)\n",
    "ax = plt.gca()\n",
    "ax.set_ylabel('Miles Per Gallon');"
   ]
  },
  {
   "cell_type": "code",
   "execution_count": null,
   "id": "4636ecab-d775-4b86-9d03-c57b2347104f",
   "metadata": {},
   "outputs": [],
   "source": [
    "sns.lmplot(x='hp_float', y='mpg', data=cars, hue='origin', truncate=False);"
   ]
  },
  {
   "cell_type": "code",
   "execution_count": null,
   "id": "7f421b1e-6721-49fe-a3f4-df2a4f3ccf23",
   "metadata": {},
   "outputs": [],
   "source": [
    "iris = sns.load_dataset(\"iris\")\n",
    "iris.head()"
   ]
  },
  {
   "cell_type": "code",
   "execution_count": null,
   "id": "f7aa8ae8-2426-4e75-8718-bc23ac589d50",
   "metadata": {},
   "outputs": [],
   "source": [
    "sns.pairplot(iris, hue=\"species\");"
   ]
  },
  {
   "cell_type": "markdown",
   "id": "efe38ae7-aa2a-498c-873c-81af69d18b15",
   "metadata": {},
   "source": [
    "use kernel density estimate in lower triangle to emphasise different relationship factors"
   ]
  },
  {
   "cell_type": "code",
   "execution_count": null,
   "id": "55e2e509-d447-449d-9e21-9080a03b8353",
   "metadata": {},
   "outputs": [],
   "source": [
    "g = sns.PairGrid(iris)\n",
    "g.map_upper(sns.scatterplot)\n",
    "g.map_lower(sns.kdeplot)\n",
    "g.map_diag(sns.kdeplot, lw=3);"
   ]
  },
  {
   "cell_type": "code",
   "execution_count": null,
   "id": "b34cafd2-de4b-4747-96be-30396c57c068",
   "metadata": {},
   "outputs": [],
   "source": [
    "fmri = sns.load_dataset(\"fmri\")\n",
    "sns.relplot(x=\"timepoint\", y=\"signal\", kind=\"line\", data=fmri);"
   ]
  },
  {
   "cell_type": "code",
   "execution_count": null,
   "id": "1cfa7f8c-75ab-45f0-b7c0-1824a4846873",
   "metadata": {},
   "outputs": [],
   "source": [
    "sns.relplot(x=\"timepoint\", y=\"signal\", ci=None, kind=\"line\", data=fmri);"
   ]
  },
  {
   "cell_type": "code",
   "execution_count": null,
   "id": "142df420-2a60-4aef-a818-8f112314041e",
   "metadata": {},
   "outputs": [],
   "source": [
    "fmri.head()"
   ]
  },
  {
   "cell_type": "code",
   "execution_count": null,
   "id": "aef4d562-4a7d-4192-8dc9-e0aafe2649a9",
   "metadata": {},
   "outputs": [],
   "source": [
    "sns.relplot(x=\"timepoint\", y=\"signal\", hue=\"event\", kind=\"line\", data=fmri);"
   ]
  },
  {
   "cell_type": "code",
   "execution_count": null,
   "id": "bea34f5c-cf60-4e61-b580-083fd23d6c21",
   "metadata": {},
   "outputs": [],
   "source": [
    "sns.relplot(x=\"timepoint\", y=\"signal\", hue=\"region\", style=\"event\",\n",
    "            kind=\"line\", data=fmri);"
   ]
  },
  {
   "cell_type": "markdown",
   "id": "8ad886f4-d24e-48d2-b814-6b33d3f6a92a",
   "metadata": {},
   "source": [
    "### Faceting"
   ]
  },
  {
   "cell_type": "code",
   "execution_count": null,
   "id": "7aa168f0-f7af-4b49-84a0-1b7ae1559d0c",
   "metadata": {},
   "outputs": [],
   "source": [
    "sns.relplot(x=\"timepoint\", y=\"signal\", hue=\"subject\",\n",
    "            col=\"region\", row=\"event\", height=3,\n",
    "            kind=\"line\", estimator=None, data=fmri);"
   ]
  },
  {
   "cell_type": "code",
   "execution_count": null,
   "id": "058a1551-3651-41b0-879d-2e88b90727d0",
   "metadata": {},
   "outputs": [],
   "source": [
    "tips = sns.load_dataset(\"tips\")\n",
    "g = sns.FacetGrid(tips, col=\"time\")\n",
    "g.map(sns.histplot, \"tip\");"
   ]
  },
  {
   "cell_type": "code",
   "execution_count": null,
   "id": "7399bfff-c9dc-4a50-9657-84729749ea6d",
   "metadata": {},
   "outputs": [],
   "source": [
    "g = sns.FacetGrid(tips, row=\"smoker\", col=\"time\", margin_titles=True)\n",
    "g.map(sns.regplot, \"size\", \"total_bill\", color=\".3\", fit_reg=False, x_jitter=.1);"
   ]
  },
  {
   "cell_type": "code",
   "execution_count": null,
   "id": "9ea56ce9-226f-44ce-bada-275ffc08658b",
   "metadata": {},
   "outputs": [],
   "source": [
    "from scipy import stats\n",
    "\n",
    "def quantile_plot(x, **kwargs):\n",
    "    quantiles, xr = stats.probplot(x, fit=False)\n",
    "    ax = plt.gca()\n",
    "    ax.scatter(xr, quantiles, **kwargs)\n",
    "    \n",
    "g = sns.FacetGrid(tips, col=\"sex\", height=4)\n",
    "g.map(quantile_plot, \"total_bill\");"
   ]
  },
  {
   "cell_type": "code",
   "execution_count": null,
   "id": "b0546cc7-128d-428d-a2bc-ba373c4cbd8a",
   "metadata": {},
   "outputs": [],
   "source": [
    "def qqplot(x, y, **kwargs):\n",
    "    _, xr = stats.probplot(x, fit=False)\n",
    "    _, yr = stats.probplot(y, fit=False)\n",
    "    plt.scatter(xr, yr, **kwargs)\n",
    "\n",
    "g = sns.FacetGrid(tips, hue=\"time\", col=\"sex\", height=4)\n",
    "g.map(qqplot, \"total_bill\", \"tip\")\n",
    "g.add_legend();"
   ]
  },
  {
   "cell_type": "code",
   "execution_count": null,
   "id": "63ceef3c-8c9b-4c6a-9aae-b794125c659f",
   "metadata": {},
   "outputs": [],
   "source": [
    "def hexbin(x, y, color, **kwargs):\n",
    "    cmap = sns.light_palette(color, as_cmap=True)\n",
    "    plt.hexbin(x, y, gridsize=15, cmap=cmap, **kwargs)\n",
    "\n",
    "with sns.axes_style(\"dark\"):\n",
    "    g = sns.FacetGrid(tips, hue=\"time\", col=\"time\", height=4)\n",
    "    \n",
    "g.map(hexbin, \"total_bill\", \"tip\", extent=[0, 50, 0, 10]);"
   ]
  },
  {
   "cell_type": "code",
   "execution_count": null,
   "id": "74e3543a-dcd8-4f7b-88a9-ff1429593451",
   "metadata": {},
   "outputs": [],
   "source": []
  }
 ],
 "metadata": {
  "kernelspec": {
   "display_name": "dataviz_demo",
   "language": "python",
   "name": "dataviz_demo"
  },
  "language_info": {
   "codemirror_mode": {
    "name": "ipython",
    "version": 3
   },
   "file_extension": ".py",
   "mimetype": "text/x-python",
   "name": "python",
   "nbconvert_exporter": "python",
   "pygments_lexer": "ipython3",
   "version": "3.8.5"
  }
 },
 "nbformat": 4,
 "nbformat_minor": 5
}
