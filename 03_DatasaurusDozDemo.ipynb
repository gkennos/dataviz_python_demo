{
 "cells": [
  {
   "cell_type": "code",
   "execution_count": null,
   "id": "d4cc9834-3f49-4028-ab7b-bee10037b85d",
   "metadata": {},
   "outputs": [],
   "source": [
    "import pandas as pd"
   ]
  },
  {
   "cell_type": "markdown",
   "id": "fd8c5e0c-e9cf-4767-9165-7baef724e5e4",
   "metadata": {},
   "source": [
    "### Same Stats, Different Graphs: Generating Datasets with Varied Appearance and Identical Statistics through Simulated Annealing \n",
    "Justin Matejka, George Fitzmaurice\n",
    "\n",
    "_Honourable Mention ACM SIGCHI Conference on Human Factors in Computing Systems (2017)_"
   ]
  },
  {
   "cell_type": "code",
   "execution_count": null,
   "id": "3e665e15-08f4-4f85-b456-dc0d8872d0d6",
   "metadata": {},
   "outputs": [],
   "source": [
    "df = pd.read_csv('DatasaurusDozen.tsv', delimiter='\\t')\n",
    "df.head()"
   ]
  },
  {
   "cell_type": "code",
   "execution_count": null,
   "id": "2ee9d728-c2af-44aa-8222-024b08cb4e97",
   "metadata": {},
   "outputs": [],
   "source": [
    "datasets = df.groupby('dataset')\n",
    "datasets.agg(['count', 'mean', 'var'])"
   ]
  },
  {
   "cell_type": "code",
   "execution_count": null,
   "id": "42103115-ca8d-48ab-902f-403af00378af",
   "metadata": {},
   "outputs": [],
   "source": [
    "datasets[['x', 'y']].corr().loc[(slice(None), 'x'), 'y']"
   ]
  },
  {
   "cell_type": "code",
   "execution_count": null,
   "id": "2a09cc36-f05a-4516-9c6c-d469026143dd",
   "metadata": {},
   "outputs": [],
   "source": [
    "from scipy import stats\n",
    "datasets.apply(lambda df: stats.linregress(df.x, df.y)[:2])"
   ]
  },
  {
   "cell_type": "code",
   "execution_count": null,
   "id": "db64a8d4-2b52-4b8b-a43c-181638ce399e",
   "metadata": {},
   "outputs": [],
   "source": [
    "import seaborn as sns"
   ]
  },
  {
   "cell_type": "code",
   "execution_count": null,
   "id": "6a83d0e5-74e6-4da8-a0b2-8510e3f807ff",
   "metadata": {},
   "outputs": [],
   "source": [
    "sns.lmplot(x=\"x\", y=\"y\", col=\"dataset\", hue=\"dataset\", data=df,\n",
    "           col_wrap=4, ci=None, height=4);"
   ]
  },
  {
   "cell_type": "markdown",
   "id": "fdba90a2-656e-4cce-b299-cb125fc84528",
   "metadata": {},
   "source": [
    "### How (Why?)"
   ]
  },
  {
   "cell_type": "markdown",
   "id": "ba562563-1f1a-4160-81a8-e275178fe44f",
   "metadata": {},
   "source": [
    "![DinoAnimation](AllDinosAnimatedSmaller.gif \"DinoAnimation\")"
   ]
  },
  {
   "cell_type": "code",
   "execution_count": null,
   "id": "81c43695-dcfd-41cf-bab2-24f028eb5cba",
   "metadata": {},
   "outputs": [],
   "source": []
  }
 ],
 "metadata": {
  "kernelspec": {
   "display_name": "dataviz_demo",
   "language": "python",
   "name": "dataviz_demo"
  },
  "language_info": {
   "codemirror_mode": {
    "name": "ipython",
    "version": 3
   },
   "file_extension": ".py",
   "mimetype": "text/x-python",
   "name": "python",
   "nbconvert_exporter": "python",
   "pygments_lexer": "ipython3",
   "version": "3.8.5"
  }
 },
 "nbformat": 4,
 "nbformat_minor": 5
}
