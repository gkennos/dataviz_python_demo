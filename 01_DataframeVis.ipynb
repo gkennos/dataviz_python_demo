{
 "cells": [
  {
   "cell_type": "code",
   "execution_count": null,
   "id": "e636f667-b357-4caf-bcea-6071eb37d1fe",
   "metadata": {},
   "outputs": [],
   "source": [
    "import matplotlib.pyplot as plt\n",
    "import numpy as np\n",
    "import pandas as pd"
   ]
  },
  {
   "cell_type": "markdown",
   "id": "03f3b40d-553f-458d-a9e3-be1fafe0af97",
   "metadata": {},
   "source": [
    "### Visualising dataframescars"
   ]
  },
  {
   "cell_type": "code",
   "execution_count": null,
   "id": "8bb1d167-ce07-4b12-b9db-db3422aa903a",
   "metadata": {},
   "outputs": [],
   "source": [
    "cars = pd.read_csv('auto-mpg.data', delim_whitespace=True, header=None)\n",
    "cars.head()"
   ]
  },
  {
   "cell_type": "code",
   "execution_count": null,
   "id": "05c1048d-c39e-49df-b317-2dfd2c7a1eed",
   "metadata": {},
   "outputs": [],
   "source": [
    "cars.columns = ['mpg','cylinders','displacement','horsepower','weight','acceleration','model_year','origin','car_name']"
   ]
  },
  {
   "cell_type": "code",
   "execution_count": null,
   "id": "3137b4dc-53a2-495f-99b8-9e210ddc64b7",
   "metadata": {},
   "outputs": [],
   "source": [
    "plt.scatter(x='horsepower', y='mpg', data=cars)\n",
    "locs, labels = plt.xticks()\n",
    "plt.show()"
   ]
  },
  {
   "cell_type": "code",
   "execution_count": null,
   "id": "95c6378d-a0b5-48fe-b8d4-4227692e8369",
   "metadata": {},
   "outputs": [],
   "source": [
    "max(cars[cars.horsepower != '?'].horsepower)"
   ]
  },
  {
   "cell_type": "code",
   "execution_count": null,
   "id": "c95234f6-a62c-44a9-99c2-76d68466cd71",
   "metadata": {},
   "outputs": [],
   "source": [
    "cars.horsepower.astype(float)"
   ]
  },
  {
   "cell_type": "code",
   "execution_count": null,
   "id": "b4eb6adb-2efe-4dae-be5b-f5537ced010d",
   "metadata": {},
   "outputs": [],
   "source": [
    "cars.horsepower.astype(float,errors='ignore')"
   ]
  },
  {
   "cell_type": "code",
   "execution_count": null,
   "id": "9ca414cb-5e86-46f5-acc0-673cbdb080cb",
   "metadata": {},
   "outputs": [],
   "source": [
    "cars.horsepower.replace('?', None).astype(float)"
   ]
  },
  {
   "cell_type": "code",
   "execution_count": null,
   "id": "d04e7f19-4d03-47d1-b116-0b7a17f35641",
   "metadata": {},
   "outputs": [],
   "source": [
    "cars['hp_float'] = cars.horsepower.replace('?', np.nan).astype(float)"
   ]
  },
  {
   "cell_type": "code",
   "execution_count": null,
   "id": "9ceac891-24ba-42b6-bbce-1e8fee392e0c",
   "metadata": {},
   "outputs": [],
   "source": [
    "plt.scatter(x='hp_float', y='mpg', data=cars)\n",
    "locs, labels = plt.xticks()\n",
    "plt.show()"
   ]
  },
  {
   "cell_type": "code",
   "execution_count": null,
   "id": "404776f0-c2ee-4beb-bf1c-bac1ad696f01",
   "metadata": {},
   "outputs": [],
   "source": [
    "cars.info()"
   ]
  },
  {
   "cell_type": "code",
   "execution_count": null,
   "id": "b56bea4c-5f2c-4aae-aae2-3034b02d47da",
   "metadata": {},
   "outputs": [],
   "source": [
    "cars.describe()"
   ]
  },
  {
   "cell_type": "code",
   "execution_count": null,
   "id": "c49a0763-ba3a-4259-941c-78b22fb478e5",
   "metadata": {},
   "outputs": [],
   "source": [
    "cars.origin = cars.origin.replace({1: 'Europe', 2: 'USA', 3: 'Japan'})"
   ]
  },
  {
   "cell_type": "code",
   "execution_count": null,
   "id": "45ac8e29-8a32-4ffc-bdd1-fcfd40fb6f6e",
   "metadata": {},
   "outputs": [],
   "source": [
    "fig, ax = plt.subplots()\n",
    "for name, df in cars.groupby('origin'):\n",
    "    ax.scatter(x='hp_float', y='mpg', data=df, label=name)\n",
    "\n",
    "ax.set_xlabel('horsepower')\n",
    "ax.set_ylabel('mpg')\n",
    "ax.legend();"
   ]
  },
  {
   "cell_type": "code",
   "execution_count": null,
   "id": "4137ff33-6bc0-42df-871f-e91a79820403",
   "metadata": {},
   "outputs": [],
   "source": []
  }
 ],
 "metadata": {
  "kernelspec": {
   "display_name": "dataviz_demo",
   "language": "python",
   "name": "dataviz_demo"
  },
  "language_info": {
   "codemirror_mode": {
    "name": "ipython",
    "version": 3
   },
   "file_extension": ".py",
   "mimetype": "text/x-python",
   "name": "python",
   "nbconvert_exporter": "python",
   "pygments_lexer": "ipython3",
   "version": "3.8.5"
  }
 },
 "nbformat": 4,
 "nbformat_minor": 5
}
