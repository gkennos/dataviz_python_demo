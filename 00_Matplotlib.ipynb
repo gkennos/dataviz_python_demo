{
 "cells": [
  {
   "cell_type": "code",
   "execution_count": null,
   "id": "4f8dd928-29f4-4f1c-b792-c25f8bbea73e",
   "metadata": {},
   "outputs": [],
   "source": [
    "import matplotlib.pyplot as plt\n",
    "import numpy as np"
   ]
  },
  {
   "cell_type": "markdown",
   "id": "34340a14-1c9c-4776-bb77-3a1a45181fa7",
   "metadata": {},
   "source": [
    "### Object-Oriented Interface"
   ]
  },
  {
   "cell_type": "code",
   "execution_count": null,
   "id": "e63bbc5e-2e5e-4f5b-b913-06c1bcb91c37",
   "metadata": {},
   "outputs": [],
   "source": [
    "x = np.arange(0, 10, 0.1)\n",
    "y = np.sin(np.pi * x) \n",
    " \n",
    "fig, ax = plt.subplots(1)\n",
    "ax.plot(x, y)\n",
    "ax.set_xlabel(\"x\")\n",
    "ax.set_ylabel(\"y\");"
   ]
  },
  {
   "cell_type": "markdown",
   "id": "87042f1e-8dc6-4dc5-940c-5904a2fbe03c",
   "metadata": {},
   "source": [
    "This allows you to easily keep track of multiple plots and axes, as each function is associated with a specific axis object"
   ]
  },
  {
   "cell_type": "code",
   "execution_count": null,
   "id": "1e708fc6-d0be-47b4-b05f-b2584f0610a8",
   "metadata": {},
   "outputs": [],
   "source": [
    "x = np.arange(1e-10,10,0.1)\n",
    "ys = [np.sin(np.pi*x) + x,\n",
    "      np.sin(np.pi*x) * x,\n",
    "      np.sin(np.pi*x) / x]\n",
    " \n",
    "fig, ax = plt.subplots(3, figsize=(10,10))\n",
    "ax[0].plot(x,ys[0])\n",
    "ax[1].plot(x,ys[1])\n",
    "ax[2].plot(x,ys[2])\n",
    " \n",
    "ax[0].set_title(\"Addition\")\n",
    "ax[1].set_title(\"Multiplication\")\n",
    "ax[2].set_title(\"Division\")\n",
    " \n",
    "for a in ax:\n",
    "    a.set_xlabel(\"x\")\n",
    "    a.set_ylabel(\"y\")\n",
    "    \n",
    "fig.tight_layout(pad=1.0);"
   ]
  },
  {
   "cell_type": "code",
   "execution_count": null,
   "id": "9a2ec44d-a841-4f31-9cf1-7c07d56cd3af",
   "metadata": {},
   "outputs": [],
   "source": [
    "fig = plt.figure(figsize=(10,7))\n",
    "ax1 = fig.add_subplot(2,2,1)\n",
    "ax2 = fig.add_subplot(2,2,3)\n",
    "ax3 = fig.add_subplot(3,2,2)\n",
    "ax4 = fig.add_subplot(3,2,4)\n",
    "ax5 = fig.add_subplot(3,2,6)"
   ]
  },
  {
   "cell_type": "markdown",
   "id": "7df2c77d-b9b9-45db-ad95-5ee93385fd7c",
   "metadata": {},
   "source": [
    "### Functional Interface\n",
    "\n",
    "Works on the currently active figure or axes object"
   ]
  },
  {
   "cell_type": "code",
   "execution_count": null,
   "id": "2d1667cc-295b-4617-bc06-4406578ac628",
   "metadata": {},
   "outputs": [],
   "source": [
    "x = np.linspace(0, 2*np.pi, 300)\n",
    "y = np.sin(x)\n",
    "plt.plot(x, y)\n",
    "plt.show()"
   ]
  },
  {
   "cell_type": "code",
   "execution_count": null,
   "id": "897075f6-9ba3-41cc-8ece-106505126840",
   "metadata": {},
   "outputs": [],
   "source": [
    "y2 = np.sin(x**2)\n",
    "plt.plot(x, y, label=r'$\\sin(x)$')\n",
    "plt.plot(x, y2, label=r'$\\sin(x^2)$')\n",
    "plt.title('Two functions on same axes')\n",
    "plt.xlabel('x')\n",
    "plt.ylabel('y')\n",
    "plt.grid()\n",
    "plt.legend()\n",
    "plt.show()"
   ]
  },
  {
   "cell_type": "code",
   "execution_count": null,
   "id": "4338868d-1a8c-48dd-a1a6-536dadcbea88",
   "metadata": {},
   "outputs": [],
   "source": [
    "x = np.linspace(0, 2*np.pi, 50)\n",
    "y = np.sin(x)\n",
    "plt.plot(x, y, linewidth=2)\n",
    "plt.plot(x, -y, 'o', markersize=3, color='g');"
   ]
  },
  {
   "cell_type": "markdown",
   "id": "3397a2e2-e9e5-44f6-9aa4-2e8e8bcbac12",
   "metadata": {},
   "source": [
    "### Plotting in 2-D"
   ]
  },
  {
   "cell_type": "code",
   "execution_count": null,
   "id": "f9ce17c5-d259-4744-a33c-20bae0d271d4",
   "metadata": {},
   "outputs": [],
   "source": [
    "a = np.random.rand(5,10)\n",
    "a"
   ]
  },
  {
   "cell_type": "code",
   "execution_count": null,
   "id": "5d6b6767-016a-42a0-a161-fc047bfd82c7",
   "metadata": {},
   "outputs": [],
   "source": [
    "a.shape"
   ]
  },
  {
   "cell_type": "code",
   "execution_count": null,
   "id": "f7aee57b-5312-4c84-a536-9df28bcd8a72",
   "metadata": {},
   "outputs": [],
   "source": [
    "plt.imshow(a, interpolation='bilinear', cmap=plt.cm.BuPu)\n",
    "plt.figure()\n",
    "plt.imshow(a, interpolation='bicubic', cmap=plt.cm.Blues)\n",
    "plt.figure()\n",
    "plt.imshow(a, interpolation='nearest', cmap=plt.cm.Blues)\n",
    "plt.show()"
   ]
  },
  {
   "cell_type": "code",
   "execution_count": null,
   "id": "2a6cd036-6e4f-4070-a6c9-949dbbef375c",
   "metadata": {},
   "outputs": [],
   "source": [
    "img = plt.imread('PNG_transparency_demonstration_1.png')\n",
    "img.shape"
   ]
  },
  {
   "cell_type": "code",
   "execution_count": null,
   "id": "3bed9391-c0ed-4b92-a2f0-88c4f8c59084",
   "metadata": {},
   "outputs": [],
   "source": [
    "plt.imshow(img);"
   ]
  },
  {
   "cell_type": "code",
   "execution_count": null,
   "id": "4b7b5952-1d9e-491d-abc7-904d5c8c0a5b",
   "metadata": {},
   "outputs": [],
   "source": [
    "fig, ax = plt.subplots(1,4, figsize=(10,6))\n",
    "ax[0].imshow(img[:,:,0], cmap=plt.cm.Greys_r, clim=(0, 1))\n",
    "ax[1].imshow(img[:,:,1], cmap=plt.cm.Greys_r, clim=(0, 1))\n",
    "ax[2].imshow(img[:,:,2], cmap=plt.cm.Greys_r, clim=(0, 1))\n",
    "ax[3].imshow(img);\n",
    "for a in ax:\n",
    "    a.set_xticklabels([]); a.set_xticks([])\n",
    "    a.set_yticklabels([]); a.set_yticks([])"
   ]
  },
  {
   "cell_type": "markdown",
   "id": "f1370fd3-a6d5-4be7-a9ba-3ac57f706d17",
   "metadata": {},
   "source": [
    "### Plotting in 3D"
   ]
  },
  {
   "cell_type": "code",
   "execution_count": null,
   "id": "083d78ad-2f11-4068-a71c-9e92d386851b",
   "metadata": {},
   "outputs": [],
   "source": [
    "from mpl_toolkits.mplot3d.axes3d import Axes3D\n",
    "from matplotlib import cm\n",
    "import matplotlib.pyplot as plt\n",
    "import numpy as np\n",
    "\n",
    "fig = plt.figure()\n",
    "ax = fig.add_subplot(1, 1, 1, projection='3d')\n",
    "X = np.arange(-5, 5, 0.25)\n",
    "Y = np.arange(-5, 5, 0.25)\n",
    "X, Y = np.meshgrid(X, Y)\n",
    "R = np.sqrt(X**2 + Y**2)\n",
    "Z = np.sin(R)\n",
    "surf = ax.plot_surface(X, Y, Z, rstride=1, cstride=1, cmap=cm.viridis,\n",
    "        linewidth=0, antialiased=False)\n",
    "ax.set_zlim3d(-1.01, 1.01);"
   ]
  },
  {
   "cell_type": "code",
   "execution_count": null,
   "id": "fa0a7027-b394-44b4-b6db-a710cf4e33d2",
   "metadata": {},
   "outputs": [],
   "source": [
    "Z.shape"
   ]
  },
  {
   "cell_type": "code",
   "execution_count": null,
   "id": "066c0021-baf6-45ee-bdc7-fd529a0dd22f",
   "metadata": {},
   "outputs": [],
   "source": [
    "X.shape"
   ]
  },
  {
   "cell_type": "code",
   "execution_count": null,
   "id": "92059532-76e9-4ac2-be87-7dedad8b9a3c",
   "metadata": {},
   "outputs": [],
   "source": [
    "np.arange(-5, 5, 0.25)"
   ]
  },
  {
   "cell_type": "code",
   "execution_count": null,
   "id": "9f0cbf5b-57f2-4358-9c4d-43b82e61aa1f",
   "metadata": {},
   "outputs": [],
   "source": []
  }
 ],
 "metadata": {
  "kernelspec": {
   "display_name": "dataviz_demo",
   "language": "python",
   "name": "dataviz_demo"
  },
  "language_info": {
   "codemirror_mode": {
    "name": "ipython",
    "version": 3
   },
   "file_extension": ".py",
   "mimetype": "text/x-python",
   "name": "python",
   "nbconvert_exporter": "python",
   "pygments_lexer": "ipython3",
   "version": "3.8.5"
  }
 },
 "nbformat": 4,
 "nbformat_minor": 5
}
